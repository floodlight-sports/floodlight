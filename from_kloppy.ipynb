{
 "cells": [
  {
   "cell_type": "markdown",
   "id": "fcb3c31e",
   "metadata": {},
   "source": [
    "### Event Data"
   ]
  },
  {
   "cell_type": "code",
   "execution_count": null,
   "id": "85d8f17e",
   "metadata": {},
   "outputs": [],
   "source": [
    "from kloppy import sportec\n",
    "\n",
    "event_dataset = sportec.load_open_event_data().transform(to_coordinate_system=\"secondspectrum\")"
   ]
  },
  {
   "cell_type": "code",
   "execution_count": null,
   "id": "95e47e62",
   "metadata": {},
   "outputs": [],
   "source": [
    "from floodlight.io.from_kloppy import _get_teamsheets\n",
    "_get_teamsheets(event_dataset.metadata)"
   ]
  },
  {
   "cell_type": "code",
   "execution_count": null,
   "id": "1c79ecff",
   "metadata": {},
   "outputs": [],
   "source": [
    "from floodlight.io.from_kloppy import _get_metadata\n",
    "_get_metadata(event_dataset.metadata)"
   ]
  },
  {
   "cell_type": "code",
   "execution_count": null,
   "id": "766f2a76",
   "metadata": {},
   "outputs": [],
   "source": [
    "from floodlight.io.from_kloppy import get_event_data\n",
    "get_event_data(event_dataset)"
   ]
  },
  {
   "cell_type": "markdown",
   "id": "c6160ecc",
   "metadata": {},
   "source": [
    "### Tracking Data"
   ]
  },
  {
   "cell_type": "code",
   "execution_count": null,
   "id": "51f5bbd4",
   "metadata": {},
   "outputs": [],
   "source": [
    "tracking_dataset = sportec.load_open_tracking_data().transform(to_coordinate_system=\"secondspectrum\")"
   ]
  },
  {
   "cell_type": "code",
   "execution_count": null,
   "id": "d8797ed9",
   "metadata": {},
   "outputs": [],
   "source": [
    "_get_teamsheets(tracking_dataset.metadata)"
   ]
  },
  {
   "cell_type": "code",
   "execution_count": null,
   "id": "9cab2831",
   "metadata": {},
   "outputs": [],
   "source": [
    "_get_metadata(tracking_dataset.metadata)"
   ]
  },
  {
   "cell_type": "code",
   "execution_count": null,
   "id": "52d2732f",
   "metadata": {},
   "outputs": [],
   "source": [
    "from floodlight.io.from_kloppy import get_position_data\n",
    "xy_objects, possession_objects, ballstatus_objects, teamsheets, pitch = get_position_data(\n",
    "    tracking_dataset\n",
    ")"
   ]
  }
 ],
 "metadata": {
  "kernelspec": {
   "display_name": "floodlight-bNyYXcri-py3.11",
   "language": "python",
   "name": "python3"
  },
  "language_info": {
   "codemirror_mode": {
    "name": "ipython",
    "version": 3
   },
   "file_extension": ".py",
   "mimetype": "text/x-python",
   "name": "python",
   "nbconvert_exporter": "python",
   "pygments_lexer": "ipython3",
   "version": "3.11.11"
  }
 },
 "nbformat": 4,
 "nbformat_minor": 5
}
